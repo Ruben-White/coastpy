{
 "cells": [
  {
   "cell_type": "markdown",
   "id": "76fae5dd-0492-45fc-8b91-0b17273cd760",
   "metadata": {},
   "source": [
    "# Extract Shoreline Monitor data (Parquet & CSV), combining series & change-rate\n",
    "\n",
    "## ShorelineMonitor: Satellite-Derived Shoreline-Series\n",
    "\n",
    "The\n",
    "[ShorelineMonitor-Shorelines](https://radiantearth.github.io/stac-browser/#/external/coclico.blob.core.windows.net/stac/v1/shorelinemonitor-shorelines/collection.json)\n",
    "dataset provides Satellite-Derived Shorelines (SDS) extracted from annually composited\n",
    "Landsat satellite imagery spanning the years 1984-2024. These shorelines are mapped onto\n",
    "the [Global Coastal Transect System\n",
    "(GCTS)](https://github.com/TUDelft-CITG/coastpy/blob/main/tutorials/global_coastal_transect_system.ipynb).\n",
    "Together they compose a new dataset that consists of time series per transect.\n",
    "The ShorelineMonitor-Series consists of more than 350 million observations, each with 54\n",
    "attributes, accross almost 7.5 million transects. The dataset and attributes are described in this [STAC\n",
    "collection](https://radiantearth.github.io/stac-browser/#/external/coclico.blob.core.windows.net/stac/v1/shorelinemonitor-series/collection.json).\n",
    "Please have a look at the metadata in one of the items. The dataset is available upon reasonable request. Please contact the data provider for more information or collaboration opportunities.\n",
    "\n",
    "## ShorelineMonitor: Change Rate\n",
    "\n",
    "The ShorelineMonitor dataset provides [Satellite-Derived Shorelines (SDS)](https://radiantearth.github.io/stac-browser/#/external/coclico.blob.core.windows.net/stac/v1/shorelinemonitor-shorelines/collection.json) extracted from annually\n",
    "composited Landsat satellite imagery spanning the years 1984-2024. These shorelines offer a global\n",
    "view of coastal change and shoreline dynamics, serving as a foundation for coastal\n",
    "analytics, modeling and management. The shorelines have been mapped onto the [Global Coastal Transect System](https://radiantearth.github.io/stac-browser/#/external/coclico.blob.core.windows.net/stac/v1/gcts/collection.json) to form a [new dataset](https://radiantearth.github.io/stac-browser/#/external/coclico.blob.core.windows.net/stac/v1/shorelinemonitor-series/collection.json) of more than 7.5 million time-series. \n",
    "\n",
    "This notebook shows how to explore multi-decadal trends in shoreline change that are extracted from the full dataset of time series. The dataset is available upon reasonable request. Please contact the data provider for more information or collaboration opportunities."
   ]
  },
  {
   "cell_type": "code",
   "execution_count": null,
   "id": "91a1bd78-82d3-492e-93f2-bf02683da517",
   "metadata": {},
   "outputs": [],
   "source": [
    "import os\n",
    "\n",
    "import dotenv\n",
    "import fsspec\n",
    "import geopandas as gpd\n",
    "import hvplot.pandas\n",
    "import pandas as pd\n",
    "import pystac\n",
    "import shapely\n",
    "import geojson\n",
    "import coastpy\n",
    "from dotenv import load_dotenv\n",
    "from ipyleaflet import Map, basemaps, GeoData\n",
    "from shapely.geometry import Polygon, LineString\n",
    "\n",
    "from coastpy.stac.utils import read_snapshot\n",
    "from coastpy.utils.config import fetch_sas_token\n",
    "\n",
    "load_dotenv()\n",
    "\n",
    "# Configure cloud and Dask settings\n",
    "sas_token = os.getenv(\"AZURE_STORAGE_SAS_TOKEN\")\n",
    "storage_options = {\"account_name\": \"coclico\", \"sas_token\": sas_token}\n",
    "\n",
    "coclico_catalog = pystac.Catalog.from_file(\n",
    "    \"https://coclico.blob.core.windows.net/stac/v1/catalog.json\"\n",
    ")\n",
    "collection_series = coclico_catalog.get_child(\"shorelinemonitor-series\")\n",
    "collection_change = coclico_catalog.get_child(\"gctr\")"
   ]
  },
  {
   "cell_type": "markdown",
   "id": "8326df94-27c3-40e1-bfaf-b38867f9307d",
   "metadata": {},
   "source": [
    "## Set paths"
   ]
  },
  {
   "cell_type": "code",
   "execution_count": null,
   "id": "38183cfe-1fb6-489c-a0d9-9b6d8bdf4a55",
   "metadata": {},
   "outputs": [],
   "source": [
    "aoi_fol = r\"p:\\1000545-054-globalbeaches\\04_Shoreline_Monitor_data_requests\\Data_requests\\Bruno_Castelle\"\n",
    "out_fol = r\"p:\\1000545-054-globalbeaches\\04_Shoreline_Monitor_data_requests\\Data_requests\\Bruno_Castelle\""
   ]
  },
  {
   "cell_type": "markdown",
   "id": "badf53dd-4038-42c9-8391-9db6542850d6",
   "metadata": {},
   "source": [
    "## Visualize data chunks"
   ]
  },
  {
   "cell_type": "code",
   "execution_count": null,
   "id": "e34bb223-5dbd-4535-9db5-46a126a7f163",
   "metadata": {},
   "outputs": [],
   "source": [
    "snapshot_series = read_snapshot(collection_series, storage_options=storage_options)\n",
    "#snapshot_series.head()\n",
    "snapshot_series.explore()"
   ]
  },
  {
   "cell_type": "code",
   "execution_count": null,
   "id": "681418a0-7557-44e3-9728-4dd2c7ed0cf9",
   "metadata": {},
   "outputs": [],
   "source": [
    "snapshot_change = read_snapshot(collection_change, storage_options=storage_options)\n",
    "#snapshot_change.head()\n",
    "snapshot_change.explore()"
   ]
  },
  {
   "cell_type": "markdown",
   "id": "789a95f1-0840-4c48-88ad-6728e1c30696",
   "metadata": {},
   "source": [
    "## Original data delivery\n",
    "\n",
    "We want to match this approximately, to ensure we are consistent to clients"
   ]
  },
  {
   "cell_type": "code",
   "execution_count": null,
   "id": "a6247e3a-2e27-44bd-af52-6e5fe8013f19",
   "metadata": {},
   "outputs": [],
   "source": [
    "# read csv\n",
    "check = pd.read_csv(os.path.join(out_fol, r\"ShorelineMonitor_1984_2021_v1.5_set1_filtered_extended_sedtypeV2.csv\"))"
   ]
  },
  {
   "cell_type": "code",
   "execution_count": null,
   "id": "1c895290-6e31-463f-a54e-48f8f4cfe050",
   "metadata": {},
   "outputs": [],
   "source": [
    "print(check.keys())\n",
    "print(check.shape)"
   ]
  },
  {
   "cell_type": "markdown",
   "id": "c4fdbe3f-1609-4ce2-81a4-b27a21beaea9",
   "metadata": {},
   "source": [
    "## Get the AOI"
   ]
  },
  {
   "cell_type": "code",
   "execution_count": null,
   "id": "aa768a00-0505-4829-a5f9-449430615da2",
   "metadata": {},
   "outputs": [],
   "source": [
    "# filter based on pre-drawn (in QGIS and exported as .shp and .geojson) AOI\n",
    "\n",
    "# load dataset\n",
    "for files in os.listdir(os.path.join(aoi_fol, 'AOI')):\n",
    "    if 'AOI_FR.geojson' in files:\n",
    "        print(files)\n",
    "        with open(os.path.join(aoi_fol, 'AOI', files)) as f:\n",
    "            gj = geojson.load(f)\n",
    "\n",
    "# revert to polygons\n",
    "polygons = []\n",
    "props = []\n",
    "for i in gj['features']:\n",
    "    try:\n",
    "        polygons.append(Polygon(i['geometry']['coordinates'][0][0]))\n",
    "    except:\n",
    "        polygons.append(Polygon(i['geometry']['coordinates'][0]))\n",
    "    props.append(i['properties']['id'])\n",
    "\n",
    "AOI_gdf = gpd.GeoDataFrame(data={'area': props}, geometry=polygons, crs=\"EPSG:4326\")"
   ]
  },
  {
   "cell_type": "code",
   "execution_count": null,
   "id": "5535a650-b8f0-41ca-ac11-2b766d6561ec",
   "metadata": {},
   "outputs": [],
   "source": [
    "# show it on a map\n",
    "m = Map(basemap=basemaps.Esri.WorldImagery, scroll_wheel_zoom=True)\n",
    "m.center = (0,0)\n",
    "m.zoom = 2\n",
    "m.layout.height = \"900px\"\n",
    "m.add(GeoData(geo_dataframe=AOI_gdf))\n",
    "m"
   ]
  },
  {
   "cell_type": "code",
   "execution_count": null,
   "id": "0f38f2ac-842f-43bf-a765-c503a597ed03",
   "metadata": {},
   "outputs": [],
   "source": [
    "# instead of loading an AOI, could also use the map to set a AOI\n",
    "from coastpy.geo.utils import get_region_of_interest_from_map\n",
    "\n",
    "# roi = get_region_of_interest_from_map(m, default_extent=(4.796, 53.108, 5.229, 53.272))\n",
    "# west, south, east, north = roi.geometry.item().bounds"
   ]
  },
  {
   "cell_type": "markdown",
   "id": "d702ca67-9e63-47b8-ab27-ac762b689d84",
   "metadata": {},
   "source": [
    "## Fetch data from the databases"
   ]
  },
  {
   "cell_type": "code",
   "execution_count": null,
   "id": "403612d2-0a8d-42e6-8154-379f766a4b62",
   "metadata": {},
   "outputs": [],
   "source": [
    "db_change = coastpy.io.STACQueryEngine(\n",
    "    stac_collection=collection_change,\n",
    "    storage_backend=\"azure\",\n",
    "    # columns = [\"geometry\", \"transect_id\", \"sds:change_rate\"] ... # when you don't need all data\n",
    ")"
   ]
  },
  {
   "cell_type": "code",
   "execution_count": null,
   "id": "90946e7b-3e0c-43ab-bcb4-157e96917864",
   "metadata": {},
   "outputs": [],
   "source": [
    "db_series = coastpy.io.STACQueryEngine(\n",
    "    stac_collection=collection_series,\n",
    "    storage_backend=\"azure\",\n",
    "    # columns = [\"geometry\", \"transect_id\", \"sds:change_rate\"] ... # when you don't need all data\n",
    ")"
   ]
  },
  {
   "cell_type": "code",
   "execution_count": null,
   "id": "5d413340-3027-417e-a62d-6575312b2610",
   "metadata": {},
   "outputs": [],
   "source": [
    "sas_token = fetch_sas_token(sas_token)\n",
    "df_change = db_change.get_data_within_aoi(AOI_gdf, sas_token=sas_token)\n",
    "print(f\"Shape: {df_change.shape}\")\n",
    "df_change.head()"
   ]
  },
  {
   "cell_type": "code",
   "execution_count": null,
   "id": "bd725b68-846c-45ea-aaf3-f9f64fc593e7",
   "metadata": {},
   "outputs": [],
   "source": [
    "sas_token = fetch_sas_token(sas_token)\n",
    "df_series = db_series.get_data_within_aoi(AOI_gdf, sas_token=sas_token)\n",
    "print(f\"Shape: {df_series.shape}\")\n",
    "df_series.head()"
   ]
  },
  {
   "cell_type": "code",
   "execution_count": null,
   "id": "3f2be69e-3581-4889-947d-5d90153a2246",
   "metadata": {},
   "outputs": [],
   "source": [
    "# make quick checkplot for the df_change\n",
    "m = df_change.explore(color='blue', name='transects')\n",
    "AOI_gdf.explore(m=m, color='red', alpha=0.5, name='AOI')"
   ]
  },
  {
   "cell_type": "code",
   "execution_count": null,
   "id": "cc514031-ba3d-4707-af2e-f65e4ad82448",
   "metadata": {},
   "outputs": [],
   "source": [
    "# make dashboard for the df_series\n",
    "\n",
    "from coastpy.viz.dashboard import ShorelineSeriesApp\n",
    "\n",
    "ShorelineSeriesApp(df_series).show()"
   ]
  },
  {
   "cell_type": "markdown",
   "id": "b89251ed-05b3-4d76-91fd-82027632936a",
   "metadata": {},
   "source": [
    "## Data alterations for intuitive clean delivery"
   ]
  },
  {
   "cell_type": "code",
   "execution_count": null,
   "id": "795e82da-9b7e-4a22-9f50-83deb6112dda",
   "metadata": {},
   "outputs": [],
   "source": [
    "# remove columns with prob labels\n",
    "df_change_mod = df_change.loc[:, ~df_change.columns.str.contains('prob')]\n",
    "\n",
    "# print some indicators\n",
    "#df_change_mod.keys()\n",
    "df_change_mod.shape\n",
    "#df_change_mod.head(3)\n",
    "\n",
    "# test outcome for one transect\n",
    "# test_change = df_change_mod[df_change_mod.transect_id == \"cl30793s01tr02731365\"]\n",
    "# with pd.option_context('display.max_columns', None):\n",
    "#     display(test_change)"
   ]
  },
  {
   "cell_type": "code",
   "execution_count": null,
   "id": "9e86a555-81e0-48d3-9b1a-dcc8d830af28",
   "metadata": {},
   "outputs": [],
   "source": [
    "# remove columns from series which are also present in change\n",
    "rem_cols = df_series.columns.intersection(df_change.columns)\n",
    "df_series_mod = df_series.drop(columns=rem_cols[2:]) # do not drop transect_id nor geometry\n",
    "\n",
    "# drop more columns related to the transect\n",
    "df_series_mod = df_series_mod.drop(columns=[\"transect_lon\", \"transect_lat\", \"transect_quadkey\",'tr_stdev', 'tr_range', 'tr_qa_pct', 'tr_is_qa'])\n",
    "\n",
    "# select the primary observations only\n",
    "df_series_mod = df_series_mod[df_series_mod.obs_is_primary == True] \n",
    "\n",
    "# drop the columns that are redundant; because we only select primary observations\n",
    "df_series_mod = df_series_mod.drop(columns=[\"obs_group\", \"obs_is_qa\", \"obs_is_primary\", \"subseries_id\", 'obs_primary_count'])\n",
    "\n",
    "# print some indications\n",
    "#df_series_mod.keys()\n",
    "df_series_mod.shape\n",
    "# df_series_mod.head(3)\n",
    "\n",
    "# test outcome for one transect\n",
    "# test_series = df_series_mod[df_series_mod.transect_id == \"cl30793s01tr02731365\"]\n",
    "# print(test_series.shape)\n",
    "# with pd.option_context('display.max_columns', None):\n",
    "#     display(test_series)"
   ]
  },
  {
   "cell_type": "markdown",
   "id": "bfabb3ff-d7a9-4fee-8097-9d9b5ab6d808",
   "metadata": {},
   "source": [
    "## Write geodataframes to Parquet & CSV files"
   ]
  },
  {
   "cell_type": "code",
   "execution_count": null,
   "id": "c85a3d6b-3be7-46ec-9e06-c36d197493ad",
   "metadata": {},
   "outputs": [],
   "source": [
    "# to parquet\n",
    "df_change_mod.to_parquet(os.path.join(out_fol, r\"SM_FR-transect-rates_1984_2023_set1.parquet\"))\n",
    "\n",
    "# to CSV\n",
    "df_change_mod.to_csv(os.path.join(out_fol, r\"SM_FR-transect-rates_1984_2023_set1.csv\"), index=False)"
   ]
  },
  {
   "cell_type": "code",
   "execution_count": null,
   "id": "0e16867b-cadd-4c6c-8fbd-97b3d7ec2475",
   "metadata": {},
   "outputs": [],
   "source": [
    "# to parquet\n",
    "df_series_mod.to_parquet(os.path.join(out_fol, r\"SM_FR-time-series_1984_2023_set1.parquet\"))\n",
    "\n",
    "# to CSV\n",
    "df_series_mod.to_csv(os.path.join(out_fol, r\"SM_FR-time-series_1984_2023_set1.csv\"), index=False)"
   ]
  },
  {
   "cell_type": "code",
   "execution_count": null,
   "id": "80a51a7d-8def-4f04-96b7-3bbd682f6737",
   "metadata": {},
   "outputs": [],
   "source": [
    "# OPTIONAL TODO: merge into one file with nested lists on temporal data for a transect.. ??\n",
    "# TODO: design set1 to 5 for different uses, leaving out certain columns?"
   ]
  }
 ],
 "metadata": {
  "kernelspec": {
   "display_name": "Python [conda env:coastal] *",
   "language": "python",
   "name": "conda-env-coastal-py"
  },
  "language_info": {
   "codemirror_mode": {
    "name": "ipython",
    "version": 3
   },
   "file_extension": ".py",
   "mimetype": "text/x-python",
   "name": "python",
   "nbconvert_exporter": "python",
   "pygments_lexer": "ipython3",
   "version": "3.12.10"
  }
 },
 "nbformat": 4,
 "nbformat_minor": 5
}
